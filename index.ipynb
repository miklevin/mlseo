{
 "cells": [
  {
   "cell_type": "code",
   "execution_count": null,
   "metadata": {},
   "outputs": [],
   "source": [
    "from mlseo import *"
   ]
  },
  {
   "cell_type": "code",
   "execution_count": null,
   "metadata": {},
   "outputs": [
    {
     "name": "stdout",
     "output_type": "stream",
     "text": [
      " Welcome to _                  (\\             To chase the rabbit,\n",
      "  _ __ ___ | |___  ___  ___     \\\\_ _/(\\      run: look()\n",
      " | '_ ` _ \\| / __|/ _ \\/ _ \\      0 0 _\\)___\n",
      " | | | | | | \\__ \\  __/ (_) |   =(_T_)=     )*\n",
      " |_| |_| |_|_|___/\\___|\\___/      /\"/   (  /\n",
      "           The adventure begins! <_<_/-<__|\n"
     ]
    }
   ],
   "source": [
    "run_me()"
   ]
  },
  {
   "cell_type": "code",
   "execution_count": null,
   "metadata": {},
   "outputs": [
    {
     "data": {
      "text/markdown": [
       "## Psst!"
      ],
      "text/plain": [
       "<IPython.core.display.Markdown object>"
      ]
     },
     "metadata": {},
     "output_type": "display_data"
    },
    {
     "data": {
      "text/markdown": [
       "### Want big ASCII-art like..."
      ],
      "text/plain": [
       "<IPython.core.display.Markdown object>"
      ]
     },
     "metadata": {},
     "output_type": "display_data"
    },
    {
     "data": {
      "text/html": [
       "<pre style=\"white-space: pre;\"> _____  _      _       ___ <br/>|_   _|| |__  (_) ___ |__ \\<br/>  | |  | '_ \\ | |/ __|  / /<br/>  | |  | | | || |\\__ \\ |_| <br/>  |_|  |_| |_||_||___/ (_) <br/>                           <br/></pre>"
      ],
      "text/plain": [
       "<IPython.core.display.HTML object>"
      ]
     },
     "metadata": {},
     "output_type": "display_data"
    },
    {
     "name": "stdout",
     "output_type": "stream",
     "text": [
      "Try running: fig(\"Hello World\")\n"
     ]
    }
   ],
   "source": [
    "look()"
   ]
  },
  {
   "cell_type": "code",
   "execution_count": null,
   "metadata": {},
   "outputs": [
    {
     "data": {
      "text/html": [
       "<pre style=\"white-space: pre;\"> _   _        _  _         __        __              _      _ <br/>| | | |  ___ | || |  ___   \\ \\      / /  ___   _ __ | |  __| |<br/>| |_| | / _ \\| || | / _ \\   \\ \\ /\\ / /  / _ \\ | '__|| | / _` |<br/>|  _  ||  __/| || || (_) |   \\ V  V /  | (_) || |   | || (_| |<br/>|_| |_| \\___||_||_| \\___/     \\_/\\_/    \\___/ |_|   |_| \\__,_|<br/>                                                              <br/></pre>"
      ],
      "text/plain": [
       "<IPython.core.display.HTML object>"
      ]
     },
     "metadata": {},
     "output_type": "display_data"
    },
    {
     "data": {
      "text/markdown": [
       "# Well done!"
      ],
      "text/plain": [
       "<IPython.core.display.Markdown object>"
      ]
     },
     "metadata": {},
     "output_type": "display_data"
    },
    {
     "data": {
      "text/markdown": [
       "## You'll be an SEO in no time."
      ],
      "text/plain": [
       "<IPython.core.display.Markdown object>"
      ]
     },
     "metadata": {},
     "output_type": "display_data"
    },
    {
     "name": "stdout",
     "output_type": "stream",
     "text": [
      "From this point on you will have to enter multiple lines of text for each example so that it can prompt you to the next step. When you copy/paste text be careful to maintain indents consistent with the example. You can select all text in a Code block and Tab or Shift+Tab to shift text left or right.\n",
      "\n",
      "    import httpx\n",
      "\n",
      "    url = \"https://mikelev.in/\"\n",
      "    response = httpx.get(url)\n",
      "\n",
      "    enlighten_me()\n",
      "    \n"
     ]
    }
   ],
   "source": [
    "fig(\"Hello World\")"
   ]
  },
  {
   "cell_type": "code",
   "execution_count": null,
   "metadata": {},
   "outputs": [
    {
     "data": {
      "text/markdown": [
       "# Congratulations!"
      ],
      "text/plain": [
       "<IPython.core.display.Markdown object>"
      ]
     },
     "metadata": {},
     "output_type": "display_data"
    },
    {
     "data": {
      "text/markdown": [
       "You just fetched a webpage from the Internet. It now resides in a variable called **response**. To prove to yourself that you have the webpage in computer memory, try each of the following commands, ***each on their own Code block***. Output of print(response.text) is the HTML of the page and will be very long. You can delete that block or hide the output after you've looked at it."
      ],
      "text/plain": [
       "<IPython.core.display.Markdown object>"
      ]
     },
     "metadata": {},
     "output_type": "display_data"
    },
    {
     "name": "stdout",
     "output_type": "stream",
     "text": [
      "\n",
      "    print(response)\n",
      "    type(response)\n",
      "    dir(response)\n",
      "    print(response.text)\n",
      "\n",
      "    save_me()\n"
     ]
    }
   ],
   "source": [
    "import httpx\n",
    "\n",
    "url = \"https://mikelev.in/\"\n",
    "response = httpx.get(url)\n",
    "\n",
    "enlighten_me()"
   ]
  },
  {
   "cell_type": "code",
   "execution_count": null,
   "metadata": {},
   "outputs": [
    {
     "name": "stdout",
     "output_type": "stream",
     "text": [
      "<Response [200 OK]>\n"
     ]
    }
   ],
   "source": [
    "print(response)"
   ]
  },
  {
   "cell_type": "code",
   "execution_count": null,
   "metadata": {},
   "outputs": [
    {
     "data": {
      "text/markdown": [
       "# Wonderful!"
      ],
      "text/plain": [
       "<IPython.core.display.Markdown object>"
      ]
     },
     "metadata": {},
     "output_type": "display_data"
    },
    {
     "data": {
      "text/markdown": [
       "It's time to put the response **object** onto the drive so you can retreive it again later without re-crawling the site. Run these lines of code. You will see a file named **crawl.db** appear in the same folder as your Notebook."
      ],
      "text/plain": [
       "<IPython.core.display.Markdown object>"
      ]
     },
     "metadata": {},
     "output_type": "display_data"
    },
    {
     "name": "stdout",
     "output_type": "stream",
     "text": [
      "\n",
      "    from sqlitedict import SqliteDict as sqldict\n",
      "\n",
      "    with sqldict(\"crawl.db\") as db:\n",
      "        db[url] = response\n",
      "        db.commit()\n",
      "\n",
      "    please_explain()\n"
     ]
    }
   ],
   "source": [
    "save_me()"
   ]
  },
  {
   "cell_type": "code",
   "execution_count": null,
   "metadata": {},
   "outputs": [
    {
     "data": {
      "text/markdown": [
       "# Stay here awhile. Read. Contemplate."
      ],
      "text/plain": [
       "<IPython.core.display.Markdown object>"
      ]
     },
     "metadata": {},
     "output_type": "display_data"
    },
    {
     "data": {
      "text/markdown": [
       "Understanding what's going on above is one of the most important things you will do in your Python career. Take your time. Read each point below and really try to internalize it. The key things to understand are:"
      ],
      "text/plain": [
       "<IPython.core.display.Markdown object>"
      ]
     },
     "metadata": {},
     "output_type": "display_data"
    },
    {
     "data": {
      "text/markdown": [
       "\n",
       " 1. A package called <a href=\"https://pypi.org/project/sqlitedict/\">sqlitedict</a> has been pip installed on your computer as part of the mlseo dependencies.\n",
       " 1. During the import, we are ***renaming*** sqlitedict.SqliteDict to just sqldict.\n",
       " 1. The **db** object is actually the SQLite database ***pretending to be a standard dict***.\n",
       " 1. The **\"with\"** keyword means Python **CLOSES** the database on the **out-dent** using the context manager which spares us from looking at some ugly try/finally code.\n",
       " 1. This has the effect of making the dictionary **PERSISTENT** so we can get the value again without re-crawling the site.\n",
       " 1. This is often done with Python pickles, but using SQLite is **MUCH** faster.\n",
       " 1. The **string** contents of the url variable is being used as a dictionary key.\n",
       " 1. The entire httpx.Response object is being used as a dictionary value.\n",
       " 1. The changes made to the **db** object must be ***committed*** to the file.\n",
       " 1. Using SQLite for persistent dicts is beyond useful.\n",
       " "
      ],
      "text/plain": [
       "<IPython.core.display.Markdown object>"
      ]
     },
     "metadata": {},
     "output_type": "display_data"
    }
   ],
   "source": [
    "from sqlitedict import SqliteDict as sqldict\n",
    "\n",
    "with sqldict(\"crawl.db\") as db:\n",
    "    db[url] = response\n",
    "    db.commit()\n",
    "\n",
    "please_explain()"
   ]
  },
  {
   "cell_type": "code",
   "execution_count": null,
   "metadata": {},
   "outputs": [
    {
     "name": "stdout",
     "output_type": "stream",
     "text": [
      "https://mikelev.in/\n"
     ]
    }
   ],
   "source": [
    "with sqldict(\"crawl.db\") as db:\n",
    "    for key in db:\n",
    "        data = db[key]\n",
    "        print(key)"
   ]
  },
  {
   "cell_type": "code",
   "execution_count": null,
   "metadata": {},
   "outputs": [
    {
     "data": {
      "text/plain": [
       "'Mike Levin SEO and Data Master | MikeLevin'"
      ]
     },
     "execution_count": null,
     "metadata": {},
     "output_type": "execute_result"
    }
   ],
   "source": [
    "extract_title(data.text)"
   ]
  },
  {
   "cell_type": "code",
   "execution_count": null,
   "metadata": {},
   "outputs": [
    {
     "data": {
      "text/plain": [
       "[('mike levin seo', 0.003966404861877356),\n",
       " ('mike levin', 0.006440215266033775),\n",
       " ('google glass', 0.013171814010282732),\n",
       " ('open source seo', 0.014204176401975343),\n",
       " ('seo seo', 0.015664606744825903),\n",
       " ('source seo software', 0.016003895912389085),\n",
       " ('levin seo', 0.017307914045074306),\n",
       " ('work journal', 0.02200990434015329),\n",
       " ('open source', 0.024345441600197932),\n",
       " ('python programming language', 0.026252056583507065),\n",
       " ('seo seo build', 0.026843056607370085),\n",
       " ('source seo', 0.02712838829135106),\n",
       " ('daily work journal', 0.02730159825712872),\n",
       " ('seo software', 0.02885417573675335),\n",
       " ('daily work', 0.03070502062297338),\n",
       " ('linux python', 0.036533812356999124),\n",
       " ('search engine', 0.036704959915738966),\n",
       " ('programming language', 0.03710021234734246),\n",
       " ('google app engine', 0.037507954960434416),\n",
       " ('seo mike', 0.03760780766566251),\n",
       " ('seo seo formula', 0.037936227721023646),\n",
       " ('recommended seo seo', 0.03793622772102365),\n",
       " ('seo software tools', 0.03824617889514564),\n",
       " ('python programming', 0.03828939236191137),\n",
       " ('search engine optimization', 0.03847625116659461),\n",
       " ('google seo', 0.04014566826689279),\n",
       " ('director seo mike', 0.04042591238036635),\n",
       " ('tiny core linux', 0.040780046853535486),\n",
       " ('google docs', 0.04106333717283671),\n",
       " ('seo consultant', 0.043647660046304056),\n",
       " ('mikelevin mike levin', 0.04497086653485998),\n",
       " ('linux distribution', 0.04734405113135826),\n",
       " ('core linux', 0.04862800259693839),\n",
       " ('small linux', 0.05400499002505475),\n",
       " ('google app', 0.05496225887431607),\n",
       " ('google api python', 0.055182452061642746),\n",
       " ('accomplished seo consultant', 0.055361740031490324),\n",
       " ('search seo', 0.05677028963829599),\n",
       " ('works learn linux', 0.056785506713675424),\n",
       " ('hardware linux python', 0.05827220713848013),\n",
       " ('accomplished seo', 0.060571519464530835),\n",
       " ('search consultant mike', 0.0627860703056341),\n",
       " ('compiling qemu', 0.06382863316506932),\n",
       " ('debian qemu', 0.06382863316506932),\n",
       " ('linux distro', 0.06409085287237232),\n",
       " ('seo cheap', 0.0659999961457762),\n",
       " ('search organic seo', 0.06625635255811309),\n",
       " ('small linux distro', 0.06634308831305373)]"
      ]
     },
     "execution_count": null,
     "metadata": {},
     "output_type": "execute_result"
    }
   ],
   "source": [
    "extract_keywords(data.text)"
   ]
  },
  {
   "cell_type": "code",
   "execution_count": null,
   "metadata": {},
   "outputs": [],
   "source": []
  }
 ],
 "metadata": {
  "kernelspec": {
   "display_name": "Python 3 (ipykernel)",
   "language": "python",
   "name": "python3"
  }
 },
 "nbformat": 4,
 "nbformat_minor": 4
}
