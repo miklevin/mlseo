{
 "cells": [
  {
   "cell_type": "markdown",
   "id": "b3c2313d-8cdc-41a8-82c7-88c2a8a44913",
   "metadata": {},
   "source": [
    "# Housekeeping\n",
    "\n",
    "If you did the prior examples, you have a file named **crawl.db** at the top of your work folder. That's no good because after awhile your folder gets filled with all your INPUT/OUTPUT files and it gets confusing. \n",
    "\n",
    "Happily you can create a ***home namespace*** at the top of your Notebook to use consistenly whenever you address a file. The extract_apex() is useful you need to think of a good namespace to keep work on different websites separate."
   ]
  },
  {
   "cell_type": "markdown",
   "id": "1e0ab3f9-063a-4fb8-8c13-0778436b1902",
   "metadata": {},
   "source": [
    "```python\n",
    "from mlseo import *\n",
    "from pathlib import Path\n",
    "from sqlitedict import SqliteDict as sqldict\n",
    "\n",
    "\n",
    "url = 'https://mikelev.in/'\n",
    "apex = extract_apex(url)\n",
    "home = Path(apex)\n",
    "Path.mkdir(home, parents=True, exist_ok=True)\n",
    "dbfile = Path(home / f'{apex}.db')\n",
    "\n",
    "with sqldict(dbfile) as db:\n",
    "    db['foo'] = 'bar'\n",
    "    db.commit()\n",
    "```"
   ]
  },
  {
   "cell_type": "code",
   "execution_count": null,
   "id": "e606d661-0486-403d-8eea-f2691f6462c4",
   "metadata": {},
   "outputs": [],
   "source": [
    "from mlseo import *\n",
    "from pathlib import Path\n",
    "from sqlitedict import SqliteDict as sqldict\n",
    "\n",
    "\n",
    "url = 'https://mikelev.in/'\n",
    "apex = extract_apex(url)\n",
    "home = Path(apex)\n",
    "Path.mkdir(home, parents=True, exist_ok=True)\n",
    "dbfile = Path(home / f'{apex}.db')\n",
    "\n",
    "with sqldict(dbfile) as db:\n",
    "    db['foo'] = 'bar'\n",
    "    db.commit()"
   ]
  },
  {
   "cell_type": "code",
   "execution_count": null,
   "id": "2b504c68-6302-4bbd-bac0-3612fe8b353c",
   "metadata": {},
   "outputs": [],
   "source": []
  }
 ],
 "metadata": {
  "kernelspec": {
   "display_name": "Python 3 (ipykernel)",
   "language": "python",
   "name": "python3"
  }
 },
 "nbformat": 4,
 "nbformat_minor": 5
}
