{
 "cells": [
  {
   "cell_type": "code",
   "execution_count": null,
   "metadata": {},
   "outputs": [],
   "source": [
    "#hide\n",
    "from your_lib.core import *"
   ]
  },
  {
   "cell_type": "markdown",
   "metadata": {},
   "source": [
    "# mlseo\n",
    "\n",
    "> Pythonic SEO in JupyterLab"
   ]
  },
  {
   "cell_type": "markdown",
   "metadata": {},
   "source": [
    "<a href=\"https://github.com/jupyterlab/jupyterlab-desktop\">JupyterLab</a> standalone version is your \"platform\". Python is your framework. Pandas and Sqlite are your database. This package just adds some SEO functions and inspiration. Feel free to pip install it, but clone it from Github if you want the example Notebooks."
   ]
  },
  {
   "cell_type": "markdown",
   "metadata": {},
   "source": [
    "## Install"
   ]
  },
  {
   "cell_type": "markdown",
   "metadata": {},
   "source": [
    "`pip install mlseo`"
   ]
  },
  {
   "cell_type": "markdown",
   "metadata": {},
   "source": [
    "## How to use"
   ]
  },
  {
   "cell_type": "markdown",
   "metadata": {},
   "source": [
    "Start a new Notebook, preferably in standalone JupyterLab. Then type:\n",
    "\n",
    "    from mlseo import *\n",
    "    \n",
    "Then follow the instructions."
   ]
  },
  {
   "cell_type": "markdown",
   "metadata": {},
   "source": [
    "# Bonus Feature\n",
    "\n",
    "mlseo is designed to be used in stand-alone JupyterLab. As such, you have to reconfigure it every time you reinstall/update. That's a pain. The biggest pain is putting your keyboard shortcuts back in. Here's mine:\n",
    "\n",
    "    {\n",
    "        \"shortcuts\": [\n",
    "            {\n",
    "                \"command\": \"kernelmenu:restart-and-clear\",\n",
    "                \"keys\": [\n",
    "                    \"Ctrl Shift R\"\n",
    "                ],\n",
    "                \"selector\": \"body\"\n",
    "            }\n",
    "        ]\n",
    "    }"
   ]
  },
  {
   "cell_type": "code",
   "execution_count": null,
   "metadata": {},
   "outputs": [],
   "source": []
  }
 ],
 "metadata": {
  "kernelspec": {
   "display_name": "Python 3 (ipykernel)",
   "language": "python",
   "name": "python3"
  }
 },
 "nbformat": 4,
 "nbformat_minor": 4
}
