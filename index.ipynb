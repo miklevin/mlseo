{
 "cells": [
  {
   "cell_type": "code",
   "execution_count": null,
   "metadata": {},
   "outputs": [],
   "source": [
    "#hide\n",
    "from your_lib.core import *"
   ]
  },
  {
   "cell_type": "markdown",
   "metadata": {},
   "source": [
    "# mlseo\n",
    "\n",
    "> Pythonic SEO in JupyterLab"
   ]
  },
  {
   "cell_type": "markdown",
   "metadata": {},
   "source": [
    "This package contains a variety of building-blocks for constructing \"deliverables\" for the field of Search Engine Optimization (SEO). The goal is to make expressing such deliverables \"light and breezy\". For example, to crawl 1-page of a site into a local database:\n",
    "\n",
    "    from sqlitedict import SqliteDict as sqldict\n",
    "    import requests\n",
    "    \n",
    "    key = 'https://mikelev.in/'\n",
    "    with sqldict('crawl.db') as db:\n",
    "        db[key] = requests.get(key)\n",
    "        db.commit()"
   ]
  },
  {
   "cell_type": "markdown",
   "metadata": {},
   "source": [
    "## Install"
   ]
  },
  {
   "cell_type": "markdown",
   "metadata": {},
   "source": [
    "`pip install -U mlseo`"
   ]
  },
  {
   "cell_type": "markdown",
   "metadata": {},
   "source": [
    "## How to use\n",
    "\n",
    "Start a new Notebook, preferably in standalone JupyterLab. Then type:\n",
    "\n",
    "    from mlseo import *\n",
    "    \n",
    "Then follow the instructions.\n",
    "\n",
    "## Standalone JupyterLab\n",
    "\n",
    "I also recommend installing nbdev and nb_black if you're doing any development work inside Jupyter:\n",
    "\n",
    "    pip install nb_black\n",
    "    pip install nbdev\n",
    "    \n",
    "Standalone Jupyter changes a lot wiping out settings. Shortcuts are the hardest ones to get back, so here's mine. It's always a good time to restart kernel and clear all outputs.\n",
    "\n",
    "    {\n",
    "        \"shortcuts\": [\n",
    "            {\n",
    "                \"command\": \"kernelmenu:restart-and-clear\",\n",
    "                \"keys\": [\n",
    "                    \"Ctrl Shift R\"\n",
    "                ],\n",
    "                \"selector\": \"body\"\n",
    "            }\n",
    "        ]\n",
    "    }\n"
   ]
  },
  {
   "cell_type": "code",
   "execution_count": null,
   "metadata": {},
   "outputs": [],
   "source": []
  }
 ],
 "metadata": {
  "kernelspec": {
   "display_name": "Python 3 (ipykernel)",
   "language": "python",
   "name": "python3"
  }
 },
 "nbformat": 4,
 "nbformat_minor": 4
}
