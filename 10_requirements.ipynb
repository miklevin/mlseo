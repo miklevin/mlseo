{
 "cells": [
  {
   "cell_type": "code",
   "execution_count": null,
   "id": "cc9f8cd8-973d-481b-934d-e8e3c12bf342",
   "metadata": {
    "tags": []
   },
   "outputs": [],
   "source": [
    "# hide\n",
    "\n",
    "%load_ext lab_black\n",
    "from nbdev.showdoc import *"
   ]
  },
  {
   "cell_type": "markdown",
   "id": "6fad6575-1dc9-4767-b4ca-bf44294ab61a",
   "metadata": {},
   "source": [
    "# Upgrade Pip Installs\n",
    "\n",
    "It's easy to have out-of-date versions of pip installed packages on your machine, even soon after a fresh install. The next 2 !commands list all all your pip components and the ones needing upgrade, just for your information. The next 2 cells do not change anything on your system."
   ]
  },
  {
   "cell_type": "code",
   "execution_count": null,
   "id": "4b11ed38-5f7f-4e99-887f-af6d8406db14",
   "metadata": {
    "tags": []
   },
   "outputs": [],
   "source": [
    "# hide\n",
    "# List all packages\n",
    "\n",
    "!pip list"
   ]
  },
  {
   "cell_type": "code",
   "execution_count": null,
   "id": "750dd276-b250-41f1-acff-12f064be43dc",
   "metadata": {},
   "outputs": [],
   "source": [
    "# hide\n",
    "# List all out-of-date packages\n",
    "\n",
    "!pip list -o"
   ]
  },
  {
   "cell_type": "markdown",
   "id": "2aaf3d7f-294e-461a-9d12-b2a098a132ee",
   "metadata": {},
   "source": [
    "# Writing a requirements.txt\n",
    "\n",
    "The cells below writes a \"requirements.txt\" file onto your machine which will let you instantly go back to all your original versions. It does not perform the upgrades yet. It merely captures all your currently installed versions and locations into a file."
   ]
  },
  {
   "cell_type": "code",
   "execution_count": null,
   "id": "4295aa9e-dba6-4f66-bd38-66e2620d1b91",
   "metadata": {},
   "outputs": [],
   "source": [
    "# Write a requirements.txt file as a \"before\" upgrades.\n",
    "\n",
    "import subprocess\n",
    "\n",
    "\n",
    "out = subprocess.Popen(\n",
    "    [\"pip\", \"freeze\"],\n",
    "    stdout=subprocess.PIPE,\n",
    "    stderr=subprocess.STDOUT,\n",
    ")\n",
    "stdout, stderr = out.communicate()\n",
    "with open('requirements.txt', 'w') as fh:\n",
    "    fh.write(stdout.decode(\"utf8\").replace('\\r\\n', '\\n'))"
   ]
  },
  {
   "cell_type": "markdown",
   "id": "48284a08-038c-42d6-afd3-24be224e569b",
   "metadata": {},
   "source": [
    "# Performing the upgrades\n",
    "\n",
    "The cell below performs all the pip upgrades, writing the outputs to a variable you can inspect."
   ]
  },
  {
   "cell_type": "code",
   "execution_count": null,
   "id": "dbe28d1c-486b-4ab2-bb67-4faaea4ec482",
   "metadata": {},
   "outputs": [],
   "source": [
    "# Upgrade all pip packages\n",
    "\n",
    "out = subprocess.Popen(\n",
    "    [\"pip\", \"list\", \"-o\"], stdout=subprocess.PIPE, stderr=subprocess.STDOUT\n",
    ")\n",
    "stdout, stderr = out.communicate()\n",
    "table = []\n",
    "for item in stdout.decode(\"utf8\").split(\"\\r\\n\"):\n",
    "    table.append(item.split())\n",
    "table = table[2:-1]\n",
    "upgrades = [x[0] for x in table]\n",
    "\n",
    "outputs = []\n",
    "for item in upgrades:\n",
    "    out = subprocess.Popen(\n",
    "        [\"pip\", \"install\", \"-U\", item], stdout=subprocess.PIPE, stderr=subprocess.STDOUT\n",
    "    )\n",
    "    stdout, stderr = out.communicate()\n",
    "    row = (item, stdout, stderr)\n",
    "    outputs.append(row)\n",
    "    print(item)\n",
    "    print()\n",
    "    print(stdout)\n",
    "    print()\n",
    "    print(stderr)\n",
    "    print()"
   ]
  },
  {
   "cell_type": "code",
   "execution_count": null,
   "id": "fd91b7ec-dba7-4956-84cd-81ee51c896f4",
   "metadata": {},
   "outputs": [],
   "source": [
    "outputs"
   ]
  },
  {
   "cell_type": "markdown",
   "id": "1ff7e9ff-5071-42e1-b209-5673797349be",
   "metadata": {},
   "source": [
    "# Reverting a Version\n",
    "\n",
    "Sometimes things get messed up. The messages during the upgrade usually clue you in, but running the upgrades twice can override the held-back upgrades. If you accidentally overwrite a particular version dependency, you can find it in your requirements.txt and deliberately go back to the required version with a command like this:"
   ]
  },
  {
   "cell_type": "code",
   "execution_count": null,
   "id": "a71c4386-8210-4377-9d12-79d65ac121b5",
   "metadata": {},
   "outputs": [],
   "source": [
    "pip install -U mistune==0.8.4"
   ]
  },
  {
   "cell_type": "code",
   "execution_count": null,
   "id": "781a573e-1e05-4d6a-805a-39b26964c5b8",
   "metadata": {},
   "outputs": [],
   "source": [
    "# It's always a good idea to restart your kernel after this.\n",
    "# Better yet, quit and re-load Jupyter. It might have been updated!"
   ]
  }
 ],
 "metadata": {
  "kernelspec": {
   "display_name": "Python 3 (ipykernel)",
   "language": "python",
   "name": "python3"
  },
  "language_info": {
   "codemirror_mode": {
    "name": "ipython",
    "version": 3
   },
   "file_extension": ".py",
   "mimetype": "text/x-python",
   "name": "python",
   "nbconvert_exporter": "python",
   "pygments_lexer": "ipython3",
   "version": "3.8.13"
  }
 },
 "nbformat": 4,
 "nbformat_minor": 5
}
