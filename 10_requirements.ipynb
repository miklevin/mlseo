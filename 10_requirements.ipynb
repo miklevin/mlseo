{
 "cells": [
  {
   "cell_type": "markdown",
   "id": "f6fccb20-0dd5-4fb3-b3c0-f9365c64004f",
   "metadata": {},
   "source": [
    "# Did you just install JupyterLabs?\n",
    "## Trying to get mlseo to work?\n",
    "\n",
    "### Execute each of the following cells to install the mlseo dependencies"
   ]
  },
  {
   "cell_type": "code",
   "execution_count": null,
   "id": "47ff19bd-9279-4d8a-bb2a-d2167c7a555a",
   "metadata": {},
   "outputs": [],
   "source": [
    "pip install nb_black"
   ]
  },
  {
   "cell_type": "code",
   "execution_count": null,
   "id": "77588de7-ec90-4c32-afbd-7683d60285c9",
   "metadata": {},
   "outputs": [],
   "source": [
    "pip install nbdev"
   ]
  },
  {
   "cell_type": "code",
   "execution_count": null,
   "id": "035bfcd1-98b3-42f2-9650-6bf6969ad1e0",
   "metadata": {},
   "outputs": [],
   "source": [
    "pip install -U nltk"
   ]
  },
  {
   "cell_type": "code",
   "execution_count": null,
   "id": "ba08bb94-fbd8-40b2-8e61-552a5852ee74",
   "metadata": {},
   "outputs": [],
   "source": [
    "pip install -U httpx"
   ]
  },
  {
   "cell_type": "code",
   "execution_count": null,
   "id": "47d5e436-7d0a-4886-aaac-9dd49aa3b088",
   "metadata": {},
   "outputs": [],
   "source": [
    "pip install -U ohawf"
   ]
  },
  {
   "cell_type": "code",
   "execution_count": null,
   "id": "cdce8f25-bf7c-43ee-b469-d0baaf35b687",
   "metadata": {},
   "outputs": [],
   "source": [
    "pip install -U pandas  # unnecessary if on Jypyter"
   ]
  },
  {
   "cell_type": "code",
   "execution_count": null,
   "id": "e0030e16-1da7-4765-a1c0-f99a44483b89",
   "metadata": {},
   "outputs": [],
   "source": [
    "pip install -U art"
   ]
  },
  {
   "cell_type": "code",
   "execution_count": null,
   "id": "82a77a9e-0583-4328-bcaa-97c0bc936c04",
   "metadata": {},
   "outputs": [],
   "source": [
    "pip install -U rich"
   ]
  },
  {
   "cell_type": "code",
   "execution_count": null,
   "id": "4d437469-f3a9-4f30-bd68-952b0f2ca81c",
   "metadata": {},
   "outputs": [],
   "source": [
    "pip install -U tldextract"
   ]
  },
  {
   "cell_type": "code",
   "execution_count": null,
   "id": "9734f9d5-e7bb-4195-a536-688557e5faa2",
   "metadata": {},
   "outputs": [],
   "source": [
    "pip install -U yake"
   ]
  },
  {
   "cell_type": "code",
   "execution_count": null,
   "id": "8aa590e2-b8a0-4ae7-8858-c4d555e36ab3",
   "metadata": {},
   "outputs": [],
   "source": [
    "pip install -U beautifulsoup4"
   ]
  },
  {
   "cell_type": "code",
   "execution_count": null,
   "id": "d9c6e8b6-11b2-42a9-97d3-5f4e78a8bed6",
   "metadata": {},
   "outputs": [],
   "source": [
    "pip install -U sqlitedict"
   ]
  },
  {
   "cell_type": "code",
   "execution_count": null,
   "id": "61e640f6-372e-4a8e-997a-16135fe70526",
   "metadata": {},
   "outputs": [],
   "source": [
    "pip install -U google-analytics-admin"
   ]
  },
  {
   "cell_type": "code",
   "execution_count": null,
   "id": "739198b0-4578-4dc7-a453-9bf68e032af3",
   "metadata": {},
   "outputs": [],
   "source": [
    "pip install -U lxml"
   ]
  },
  {
   "cell_type": "code",
   "execution_count": null,
   "id": "6c1a088a-fa0d-4386-87c6-e9c478781182",
   "metadata": {},
   "outputs": [],
   "source": [
    "pip install -U lxml openpyxl"
   ]
  },
  {
   "cell_type": "code",
   "execution_count": null,
   "id": "c72101ee-4cbe-44a7-929f-e252c30b6e38",
   "metadata": {},
   "outputs": [],
   "source": []
  }
 ],
 "metadata": {
  "kernelspec": {
   "display_name": "Python 3 (ipykernel)",
   "language": "python",
   "name": "python3"
  }
 },
 "nbformat": 4,
 "nbformat_minor": 5
}
